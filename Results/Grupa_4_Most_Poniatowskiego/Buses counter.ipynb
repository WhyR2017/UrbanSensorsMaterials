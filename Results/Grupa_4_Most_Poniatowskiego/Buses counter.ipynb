{
 "cells": [
  {
   "cell_type": "code",
   "execution_count": 56,
   "metadata": {
    "collapsed": true
   },
   "outputs": [],
   "source": [
    "# This Python script measures traffic on the Poniatowski's bridge in Warsaw.\n",
    "# It measures traffic for buses (simple modification for trams possible) in both directions separately.\n",
    "# Finally, it counts number of observations in 15-minute \"bins\"\n",
    "# It is our solution from the hacka\n",
    "# Format of input data is coherent with Open Warsaw Api data format (5 columns). \n",
    "\n",
    "# Data has it's defects. Frequently, time between subsequent signals from given vehicle is bigger than 10s. \n",
    "# It is not rare to have 15-20s breaks in signal. \n",
    "# It makes further analysis harder. In our case sometimes it was not able to detect in which direction the vehicle is moving, because there was only one observation from the bridge."
   ]
  },
  {
   "cell_type": "code",
   "execution_count": 57,
   "metadata": {
    "collapsed": true
   },
   "outputs": [],
   "source": [
    "import datetime\n",
    "import pandas as pd\n",
    "import numpy as np"
   ]
  },
  {
   "cell_type": "code",
   "execution_count": 58,
   "metadata": {},
   "outputs": [],
   "source": [
    "data = pd.read_csv('data/2017_09_21.csv', names=[\"versionID\", #String\n",
    "   \"line\",#String,\n",
    "   \"brigade\", #String\n",
    "   \"time\",#String,\n",
    "   \"lon\",#Double,\n",
    "   \"lat\",#Double,\n",
    "   \"rawLon\",#Double,\n",
    "   \"rawLat\",#Double,\n",
    "   \"status\",#String,\n",
    "   \"delay\",#String,\n",
    "   \"delayAtStop\",#String,\n",
    "   \"plannedLeaveTime\",#String,\n",
    "   \"nearestStop\",#String,\n",
    "   \"nearestStopDistance\",#Double,\n",
    "   \"nearestStopLon\",#Double,\n",
    "   \"nearestStopLat\",#Double,\n",
    "   \"previousStop\",#String,\n",
    "   \"previousStopLon\",#Double,\n",
    "   \"previousStopLat\",#Double,\n",
    "   \"previousStopDistance\",#Double,\n",
    "   \"previousStopArrivalTime\",#String,\n",
    "   \"previousStopLeaveTime\",#String,\n",
    "   \"nextStop\",#String,\n",
    "   \"nextStopLon\",#Double,\n",
    "   \"nextStopLat\",#Double,\n",
    "   \"nextStopDistance\",#Double,\n",
    "   \"nextStopTimetableVisitTime\",#String,\n",
    "   \"courseIdentifier\",#String,\n",
    "   \"courseDirection\",#String,\n",
    "   \"timetableIdentifier\",#String,\n",
    "   \"timetableStatus\",#String,\n",
    "   \"receivedTime\",#String,\n",
    "   \"processingFinishedTime\",#String\n",
    "   \"onWayToDepot\" ,#String\n",
    "   \"overlapsWithNextBrigade\",#String\n",
    "   \"atStop\",#String\n",
    "   \"overlapsWithNextBrigadeStopLineBrigade\",#String\n",
    "   \"speed\"], delimiter=';', index_col=False)"
   ]
  },
  {
   "cell_type": "code",
   "execution_count": 59,
   "metadata": {
    "collapsed": true
   },
   "outputs": [],
   "source": [
    "minLon = 21.038172\n",
    "maxLon = 21.042227\n",
    "minLat = 52.235431\n",
    "maxLat = 52.236351"
   ]
  },
  {
   "cell_type": "code",
   "execution_count": 60,
   "metadata": {
    "collapsed": true
   },
   "outputs": [],
   "source": [
    "poniat = data[(data.lon > minLon) & (data.lon < maxLon) & (data.lat > minLat) & (data.lat <maxLat)]\n",
    "poniat = poniat[(poniat.time > \"2017-09-21 06:00:00\") & (poniat.time < \"2017-09-21 22:00:00\") ]"
   ]
  },
  {
   "cell_type": "code",
   "execution_count": 61,
   "metadata": {
    "scrolled": true
   },
   "outputs": [
    {
     "data": {
      "text/plain": [
       "array(['Gocławek', 'P+R Al.Krakowska', 'Wiatraczna',\n",
       "       'Kawęczyńska-Bazylika', 'Piaski', 'Nowe Bemowo', 'Banacha',\n",
       "       'Annopol', 'pl.Starynkiewicza', 'Wojnicka', 'most Poniatowskiego',\n",
       "       'Okopowa', 'Ochota-Ratusz'], dtype=object)"
      ]
     },
     "execution_count": 61,
     "metadata": {},
     "output_type": "execute_result"
    }
   ],
   "source": [
    "poniat.courseDirection.unique()"
   ]
  },
  {
   "cell_type": "code",
   "execution_count": 62,
   "metadata": {
    "collapsed": true
   },
   "outputs": [],
   "source": [
    "poniat = poniat[poniat.courseDirection != \"most Poniatowskiego\"]"
   ]
  },
  {
   "cell_type": "code",
   "execution_count": 63,
   "metadata": {
    "collapsed": true
   },
   "outputs": [],
   "source": [
    "poniat.loc[ poniat.courseDirection == 'P+R Al.Krakowska', \"courseDirection\"] = 'WEST'\n",
    "poniat.loc[ poniat.courseDirection == 'Wiatraczna', \"courseDirection\"] = 'EAST'\n",
    "poniat.loc[ poniat.courseDirection == 'Okopowa', \"courseDirection\"] = 'WEST'\n",
    "poniat.loc[ poniat.courseDirection == 'pl.Narutowicza', \"courseDirection\"] = 'WEST'\n",
    "poniat.loc[ poniat.courseDirection == 'Gocławek', \"courseDirection\"] = 'EAST'\n",
    "poniat.loc[ poniat.courseDirection == 'pl.Starynkiewicza', \"courseDirection\"] = 'WEST'\n",
    "poniat.loc[ poniat.courseDirection == 'Ochota-Ratusz', \"courseDirection\"] = 'WEST'\n",
    "poniat.loc[ poniat.courseDirection == 'Banacha', \"courseDirection\"] = 'WEST'\n",
    "poniat.loc[ poniat.courseDirection == 'Piaski', \"courseDirection\"] = 'WEST'\n",
    "poniat.loc[ poniat.courseDirection == 'Nowe Bemowo', \"courseDirection\"] = 'WEST'\n",
    "poniat.loc[ poniat.courseDirection == 'Annopol', \"courseDirection\"] = 'EAST'\n",
    "poniat.loc[ poniat.courseDirection == 'Kawęczyńska-Bazylika', \"courseDirection\"] = 'EAST'\n",
    "poniat.loc[ poniat.courseDirection == 'Wojnicka', \"courseDirection\"] = 'EAST'\n",
    "poniat.loc[ poniat.courseDirection == 'al.Zieleniecka', \"courseDirection\"] = 'EAST'\n",
    "poniat.loc[ poniat.courseDirection == 'rondo Waszyngtona', \"courseDirection\"] = 'EAST'"
   ]
  },
  {
   "cell_type": "code",
   "execution_count": 64,
   "metadata": {},
   "outputs": [
    {
     "data": {
      "text/plain": [
       "array(['EAST', 'WEST'], dtype=object)"
      ]
     },
     "execution_count": 64,
     "metadata": {},
     "output_type": "execute_result"
    }
   ],
   "source": [
    "poniat.courseDirection.unique()"
   ]
  },
  {
   "cell_type": "code",
   "execution_count": 65,
   "metadata": {
    "collapsed": true
   },
   "outputs": [],
   "source": [
    "poniat = poniat.sort_values([\"line\", \"brigade\"])\n",
    "poniat = poniat.reset_index()\n",
    "poniat.time = pd.to_datetime(poniat.time)"
   ]
  },
  {
   "cell_type": "code",
   "execution_count": 66,
   "metadata": {},
   "outputs": [],
   "source": [
    "prevline = -1\n",
    "prevbrigade = -1\n",
    "prevtime = pd.to_datetime(\"2017-01-01 07:00:00\")\n",
    "\n",
    "\n",
    "for index, row in poniat.iterrows():\n",
    "    curline = row['line']\n",
    "    curbrigade = row['brigade']\n",
    "    curtime = row['time']\n",
    "    \n",
    "    newBrigade = False\n",
    "    \n",
    "    if (~curbrigade == prevbrigade) | (~curline == prevline):\n",
    "        prevtime = pd.to_datetime(\"2017-01-01 07:00:00\")\n",
    "        newBrigade = True\n",
    "        \n",
    "    if ((curtime - prevtime).total_seconds() < 240) & ~newBrigade:\n",
    "        poniat.drop(index, inplace=True)\n",
    "        \n",
    "    prevline = curline\n",
    "    prevbrigade = curbrigade\n",
    "    prevtime = curtime"
   ]
  },
  {
   "cell_type": "code",
   "execution_count": 71,
   "metadata": {
    "collapsed": true
   },
   "outputs": [],
   "source": [
    "eastseries = poniat[poniat.courseDirection == 'EAST']['time']\n",
    "westseries = poniat[poniat.courseDirection == 'WEST']['time']"
   ]
  },
  {
   "cell_type": "code",
   "execution_count": 72,
   "metadata": {},
   "outputs": [],
   "source": [
    "westseries = pd.DataFrame(westseries)\n",
    "westseries.columns = [\"time\"]\n",
    "westseries = westseries.assign(count=np.full((len(westseries), 1), 1))\n",
    "westseries = westseries.sort_values(\"time\")\n",
    "westseries = westseries.reset_index().set_index(\"time\").resample('15T').sum()[\"count\"]\n",
    "\n",
    "eastseries = pd.DataFrame(eastseries)\n",
    "eastseries.columns = [\"time\"]\n",
    "eastseries = eastseries.assign(count=np.full((len(eastseries), 1), 1))\n",
    "eastseries = eastseries.sort_values(\"time\")\n",
    "eastseries = eastseries.reset_index().set_index(\"time\").resample('15T').sum()[\"count\"]"
   ]
  },
  {
   "cell_type": "code",
   "execution_count": 282,
   "metadata": {
    "collapsed": true
   },
   "outputs": [],
   "source": [
    "westseries.to_csv(\"west_series.csv\")"
   ]
  },
  {
   "cell_type": "code",
   "execution_count": 283,
   "metadata": {
    "collapsed": true
   },
   "outputs": [],
   "source": [
    "eastseries.to_csv(\"east_series.csv\")"
   ]
  },
  {
   "cell_type": "code",
   "execution_count": null,
   "metadata": {
    "collapsed": true
   },
   "outputs": [],
   "source": []
  }
 ],
 "metadata": {
  "kernelspec": {
   "display_name": "Python 3",
   "language": "python",
   "name": "python3"
  },
  "language_info": {
   "codemirror_mode": {
    "name": "ipython",
    "version": 3
   },
   "file_extension": ".py",
   "mimetype": "text/x-python",
   "name": "python",
   "nbconvert_exporter": "python",
   "pygments_lexer": "ipython3",
   "version": "3.6.1"
  }
 },
 "nbformat": 4,
 "nbformat_minor": 2
}
